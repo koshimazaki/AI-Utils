{
 "cells": [
  {
   "cell_type": "code",
   "execution_count": null,
   "id": "6f75b408-fc52-4b18-87a6-2c0de8437ffb",
   "metadata": {},
   "outputs": [],
   "source": [
    "#COMFY \n",
    "\n",
    "%cd /workspace/ComfyUI"
   ]
  },
  {
   "cell_type": "code",
   "execution_count": null,
   "id": "14f5838d-a237-4263-a0f6-1c8b3bdb3f58",
   "metadata": {},
   "outputs": [],
   "source": [
    "#install downloader \n",
    "\n",
    "!sudo apt-get update\n"
   ]
  },
  {
   "cell_type": "code",
   "execution_count": null,
   "id": "aebf45fb-69c2-4844-961d-24b7ba4738f0",
   "metadata": {},
   "outputs": [],
   "source": [
    "!sudo apt -y install -qq aria2 libcairo2-dev pkg-config python3-dev\n"
   ]
  },
  {
   "cell_type": "code",
   "execution_count": null,
   "id": "639434b8-aa0a-480d-91d5-27512399d6e8",
   "metadata": {},
   "outputs": [],
   "source": [
    "#Controlnets SD15\n",
    "\n",
    "!aria2c --console-log-level=error -c -x 16 -s 16 -k 1M https://huggingface.co/lllyasviel/ControlNet/resolve/main/models/control_sd15_canny.pth?download=true -d /workspace/ComfyUI/models/controlnet -o control_sd15_canny.pth\n",
    "!aria2c --console-log-level=error -c -x 16 -s 16 -k 1M https://huggingface.co/lllyasviel/ControlNet/resolve/main/models/control_sd15_depth.pth?download=true -d /workspace/ComfyUI/models/controlnet -o control_sd15_depth.pth\n",
    "!aria2c --console-log-level=error -c -x 16 -s 16 -k 1M https://huggingface.co/lllyasviel/ControlNet/resolve/main/models/control_sd15_openpose.pth?download=true -d /workspace/ComfyUI/models/controlnet -o control_sd15_openpose.pth\n"
   ]
  },
  {
   "cell_type": "code",
   "execution_count": null,
   "id": "e8366c10-dcc2-4750-9070-4476136b1da0",
   "metadata": {},
   "outputs": [],
   "source": [
    "#Dreamshaper \n",
    "\n",
    "!aria2c --console-log-level=error -c -x 16 -s 16 -k 1M https://civitai.com/api/download/models/128713 -d /workspace/ComfyUI/models/checkpoints -o Dreamshaper_8.safetensors"
   ]
  },
  {
   "cell_type": "code",
   "execution_count": null,
   "id": "4806751d-4d17-4e2b-a6be-c0cd056db992",
   "metadata": {},
   "outputs": [],
   "source": [
    "# Clip vision \n",
    "\n",
    "!aria2c --console-log-level=error -c -x 16 -s 16 -k 1M https://huggingface.co/h94/IP-Adapter/resolve/main/models/image_encoder/model.safetensors -d /workspace/ComfyUI/models/clip_vision -o CLIP-ViT-H-14-laion2B-s32B-b79K.safetensors\n",
    "!aria2c --console-log-level=error -c -x 16 -s 16 -k 1M https://huggingface.co/h94/IP-Adapter/resolve/main/sdxl_models/image_encoder/model.safetensors -d /workspace/ComfyUI/models/clip_vision -o CLIP-ViT-bigG-14-laion2B-39B-b160k.safetensors\n",
    "\n",
    "#Ipadaptor models \n",
    "!aria2c --console-log-level=error -c -x 16 -s 16 -k 1M https://huggingface.co/h94/IP-Adapter/resolve/main/models/ip-adapter_sd15.safetensors -d /workspace/ComfyUI/models/ipadapter -o ip-adapter_sd15.safetensors\n",
    "!aria2c --console-log-level=error -c -x 16 -s 16 -k 1M https://huggingface.co/h94/IP-Adapter/resolve/main/models/ip-adapter-plus_sd15.safetensors -d /workspace/ComfyUI/models/ipadapter -o ip-adapter-plus_sd15.safetensors\n",
    "\n",
    "#!aria2c --console-log-level=error -c -x 16 -s 16 -k 1M https://huggingface.co/h94/IP-Adapter/resolve/main/models/image_encoder/pytorch_model.bin?download=true -d /workspace/ComfyUI/models/clip_vision -o pytorch_model.bin\n",
    "!aria2c --console-log-level=error -c -x 16 -s 16 -k 1M https://huggingface.co/h94/IP-Adapter/resolve/main/models/image_encoder/model.safetensors?download=true -d /workspace/ComfyUI/models/clip_vision -o model.safetensors"
   ]
  },
  {
   "cell_type": "code",
   "execution_count": null,
   "id": "0b7dab6e-78c3-45c0-b738-bd0af0783888",
   "metadata": {},
   "outputs": [],
   "source": [
    "#ToonYou\n",
    "\n",
    "!aria2c --console-log-level=error -c -x 16 -s 16 -k 1M https://civitai.com/api/download/models/125771 -d /workspace/ComfyUI/models/checkpoints -o ToonYou_6beta.safetensors"
   ]
  },
  {
   "cell_type": "code",
   "execution_count": null,
   "id": "e3ecee1d-f772-4821-9667-e3d0384c7e8d",
   "metadata": {},
   "outputs": [],
   "source": [
    "#Controlnets SDXL\n",
    "\n",
    "!aria2c --console-log-level=error -c -x 16 -s 16 -k 1M https://huggingface.co/lllyasviel/sd_control_collection/resolve/main/sai_xl_canny_256lora.safetensors?download=true -d /workspace/ComfyUI/models/controlnet -o sai_xl_canny_256lora.safetensors\n",
    "!aria2c --console-log-level=error -c -x 16 -s 16 -k 1M https://huggingface.co/lllyasviel/sd_control_collection/resolve/main/sai_xl_depth_256lora.safetensors?download=true -d /workspace/ComfyUI/models/controlnet -o sai_xl_depth_256lora.safetensors\n",
    "!aria2c --console-log-level=error -c -x 16 -s 16 -k 1M https://huggingface.co/lllyasviel/sd_control_collection/resolve/main/t2i-adapter_xl_canny.safetensors?download=true -d /workspace/ComfyUI/models/controlnet -o t2i-adapter_xl_canny.safetensors\n",
    "\n",
    "#Protovision\n",
    "\n",
    "!aria2c --console-log-level=error -c -x 16 -s 16 -k 1M https://civitai.com/api/download/models/265938 -d /workspace/ComfyUI/models/checkpoints -o Protovision660.safetensors"
   ]
  }
 ],
 "metadata": {
  "kernelspec": {
   "display_name": "Python3 (ipykernel)",
   "language": "python",
   "name": "python3"
  },
  "language_info": {
   "codemirror_mode": {
    "name": "ipython",
    "version": 3
   },
   "file_extension": ".py",
   "mimetype": "text/x-python",
   "name": "python",
   "nbconvert_exporter": "python",
   "pygments_lexer": "ipython3",
   "version": "3.10.14"
  }
 },
 "nbformat": 4,
 "nbformat_minor": 5
}
