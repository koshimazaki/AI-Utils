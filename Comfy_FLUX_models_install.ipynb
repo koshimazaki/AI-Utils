{
 "cells": [
  {
   "cell_type": "code",
   "execution_count": null,
   "id": "6f75b408-fc52-4b18-87a6-2c0de8437ffb",
   "metadata": {},
   "outputs": [],
   "source": [
    "#COMFY \n",
    "\n",
    "%cd /workspace/ComfyUI"
   ]
  },
  {
   "cell_type": "code",
   "execution_count": null,
   "id": "14f5838d-a237-4263-a0f6-1c8b3bdb3f58",
   "metadata": {},
   "outputs": [],
   "source": [
    "#install downloader \n",
    "\n",
    "!sudo apt-get update"
   ]
  },
  {
   "cell_type": "code",
   "execution_count": null,
   "id": "aebf45fb-69c2-4844-961d-24b7ba4738f0",
   "metadata": {},
   "outputs": [],
   "source": [
    "!sudo apt -y install -qq aria2 libcairo2-dev pkg-config python3-dev\n"
   ]
  },
  {
   "cell_type": "code",
   "execution_count": null,
   "id": "9a1a05e4",
   "metadata": {},
   "outputs": [],
   "source": [
    "#Flux models\n",
    "\n",
    "# Clip models\n",
    "!aria2c --console-log-level=error -c -x 16 -s 16 -k 1M https://huggingface.co/comfyanonymous/flux_text_encoders/resolve/main/clip_l.safetensors?download=true -d /workspace/ComfyUI/models/clip -o clip_l.safetensors\n",
    "!aria2c --console-log-level=error -c -x 16 -s 16 -k 1M https://huggingface.co/comfyanonymous/flux_text_encoders/resolve/main/t5xxl_fp16.safetensors?download=true -d /workspace/ComfyUI/models/clip -o t5xxl_fp16.safetensors\n",
    "!aria2c --console-log-level=error -c -x 16 -s 16 -k 1M https://huggingface.co/comfyanonymous/flux_text_encoders/resolve/main/t5xxl_fp8_e4m3fn.safetensors?download=true -d /workspace/ComfyUI/models/clip -o t5xxl_fp8_e4m3fn.safetensors\n",
    "\n",
    "# VAE model\n",
    "!aria2c --console-log-level=error -c -x 16 -s 16 -k 1M https://huggingface.co/cocktailpeanut/xulf-dev/resolve/main/ae.sft?download=true -d /workspace/ComfyUI/models/vae -o ae.sft\n",
    "\n",
    "# UNet model\n",
    "!aria2c --console-log-level=error -c -x 16 -s 16 -k 1M https://huggingface.co/cocktailpeanut/xulf-dev/resolve/main/flux1-dev.sft?download=true -d /workspace/ComfyUI/models/unet -o flux1-dev.sft\n",
    "\n"
   ]
  },
  {
   "cell_type": "code",
   "execution_count": null,
   "id": "7e6662b5-3109-4eaf-a281-28dbcfca59ef",
   "metadata": {},
   "outputs": [],
   "source": []
  }
 ],
 "metadata": {
  "kernelspec": {
   "display_name": "Python3 (ipykernel)",
   "language": "python",
   "name": "python3"
  },
  "language_info": {
   "codemirror_mode": {
    "name": "ipython",
    "version": 3
   },
   "file_extension": ".py",
   "mimetype": "text/x-python",
   "name": "python",
   "nbconvert_exporter": "python",
   "pygments_lexer": "ipython3",
   "version": "3.10.14"
  }
 },
 "nbformat": 4,
 "nbformat_minor": 5
}
